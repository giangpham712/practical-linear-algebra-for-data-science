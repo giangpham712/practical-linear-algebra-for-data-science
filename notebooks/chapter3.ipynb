{
 "cells": [
  {
   "cell_type": "markdown",
   "id": "74554739-82f9-4ff4-b88a-d8dfe68a8f62",
   "metadata": {},
   "source": [
    "# Vectors, Part 2"
   ]
  },
  {
   "cell_type": "code",
   "execution_count": 2,
   "id": "76dee47b-1bcc-4b9e-95d9-890950f2f5d8",
   "metadata": {
    "tags": [],
    "ExecuteTime": {
     "end_time": "2023-12-09T05:23:36.534030400Z",
     "start_time": "2023-12-09T05:23:36.502240900Z"
    }
   },
   "outputs": [],
   "source": [
    "import numpy as np\n",
    "import matplotlib.pyplot as plt\n",
    "import plotly.graph_objects as go"
   ]
  },
  {
   "cell_type": "markdown",
   "id": "8da5eed8-60fc-44d8-a9d0-0c067677248a",
   "metadata": {},
   "source": [
    "### Linear weighted combination"
   ]
  },
  {
   "cell_type": "code",
   "execution_count": 3,
   "id": "755c1a9c-4139-4169-a9fd-55bd75aebe47",
   "metadata": {
    "tags": [],
    "ExecuteTime": {
     "end_time": "2023-12-09T05:23:36.541291500Z",
     "start_time": "2023-12-09T05:23:36.509520900Z"
    }
   },
   "outputs": [
    {
     "data": {
      "text/plain": "array([ -7,  -4, -13])"
     },
     "execution_count": 3,
     "metadata": {},
     "output_type": "execute_result"
    }
   ],
   "source": [
    "\n",
    "\n",
    "l1 = 1\n",
    "l2 = 2\n",
    "l3 = -3\n",
    "\n",
    "v1 = np.array([4,5,1])\n",
    "v2 = np.array([-4,0,-4])\n",
    "v3 = np.array([1,3,2])\n",
    "\n",
    "l1*v1 + l2*v2 + l3*v3"
   ]
  },
  {
   "cell_type": "markdown",
   "source": [
    "## Exercises"
   ],
   "metadata": {
    "collapsed": false
   },
   "id": "df26d4b507ad0e48"
  },
  {
   "cell_type": "markdown",
   "source": [
    "### Exercise 1"
   ],
   "metadata": {
    "collapsed": false
   },
   "id": "8ea2d0d48e4b900c"
  },
  {
   "cell_type": "code",
   "execution_count": 4,
   "id": "f76072a2-bc82-4ecc-bfd9-67acbefe5859",
   "metadata": {
    "ExecuteTime": {
     "end_time": "2023-12-09T05:23:36.543270700Z",
     "start_time": "2023-12-09T05:23:36.517080500Z"
    }
   },
   "outputs": [
    {
     "data": {
      "text/plain": "array([ -7.,  -4., -13.])"
     },
     "execution_count": 4,
     "metadata": {},
     "output_type": "execute_result"
    }
   ],
   "source": [
    "scalars = [l1,l2,l3]\n",
    "vectors = [v1,v2,v3]\n",
    "\n",
    "linCombo = np.zeros(len(v1))\n",
    "\n",
    "for s,v in zip(scalars,vectors):\n",
    "   linCombo += s*v \n",
    "   \n",
    "linCombo   "
   ]
  },
  {
   "cell_type": "markdown",
   "source": [
    "### Exercise 2"
   ],
   "metadata": {
    "collapsed": false
   },
   "id": "b0ddc0101e30e98d"
  },
  {
   "cell_type": "code",
   "execution_count": 5,
   "outputs": [
    {
     "ename": "IndexError",
     "evalue": "list index out of range",
     "output_type": "error",
     "traceback": [
      "\u001B[1;31m---------------------------------------------------------------------------\u001B[0m",
      "\u001B[1;31mIndexError\u001B[0m                                Traceback (most recent call last)",
      "Cell \u001B[1;32mIn[5], line 7\u001B[0m\n\u001B[0;32m      4\u001B[0m linCombo \u001B[38;5;241m=\u001B[39m np\u001B[38;5;241m.\u001B[39mzeros(\u001B[38;5;28mlen\u001B[39m(v1))\n\u001B[0;32m      6\u001B[0m \u001B[38;5;28;01mfor\u001B[39;00m i \u001B[38;5;129;01min\u001B[39;00m \u001B[38;5;28mrange\u001B[39m(\u001B[38;5;28mlen\u001B[39m(scalars)):\n\u001B[1;32m----> 7\u001B[0m     linCombo \u001B[38;5;241m+\u001B[39m\u001B[38;5;241m=\u001B[39m scalars[i]\u001B[38;5;241m*\u001B[39mvectors[i]\n\u001B[0;32m      9\u001B[0m linCombo\n",
      "\u001B[1;31mIndexError\u001B[0m: list index out of range"
     ]
    }
   ],
   "source": [
    "scalars = [ l1,l2,l3,5 ]\n",
    "vectors = [ v1,v2,v3 ]\n",
    "\n",
    "linCombo = np.zeros(len(v1))\n",
    "\n",
    "for i in range(len(scalars)):\n",
    "    linCombo += scalars[i]*vectors[i]\n",
    "    \n",
    "linCombo"
   ],
   "metadata": {
    "collapsed": false,
    "ExecuteTime": {
     "end_time": "2023-12-09T05:23:36.986078300Z",
     "start_time": "2023-12-09T05:23:36.525818700Z"
    }
   },
   "id": "2b07f37c48d06728"
  },
  {
   "cell_type": "markdown",
   "source": [
    "### Exercise 3"
   ],
   "metadata": {
    "collapsed": false
   },
   "id": "28432937b7eff3a3"
  },
  {
   "cell_type": "code",
   "execution_count": 6,
   "outputs": [
    {
     "data": {
      "text/plain": "<Figure size 600x600 with 1 Axes>",
      "image/png": "[encoded data removed]"
     },
     "metadata": {},
     "output_type": "display_data"
    }
   ],
   "source": [
    "A = np.array([1,3])\n",
    "\n",
    "xlim = [-4,4]\n",
    "\n",
    "scalars = np.random.uniform(low=xlim[0],high=xlim[1],size=100)\n",
    "\n",
    "plt.figure(figsize=(6,6))\n",
    "\n",
    "for s in scalars:\n",
    "    p = A*s\n",
    "    plt.plot(p[0],p[1],'ko')\n",
    "    \n",
    "plt.xlim(xlim)\n",
    "plt.ylim(xlim)\n",
    "\n",
    "plt.grid()\n",
    "plt.text(-4.5,4.5,'A)',fontweight='bold',fontsize=10)\n",
    "plt.show()"
   ],
   "metadata": {
    "collapsed": false,
    "ExecuteTime": {
     "end_time": "2023-12-09T06:43:09.974714100Z",
     "start_time": "2023-12-09T06:43:09.654932Z"
    }
   },
   "id": "c91bf55be50e58dc"
  },
  {
   "cell_type": "code",
   "execution_count": 11,
   "outputs": [
    {
     "data": {
      "application/vnd.plotly.v1+json": {
       "data": [
        {
         "marker": {
          "color": "black",
          "size": 6
         },
         "mode": "markers",
         "x": [
          4.3185302791590034,
          -0.6543030488653674,
          5.64878164896216,
          -2.5315954289258658,
          5.1042766011674825,
          -0.1389912621227749,
          8.214184498228827,
          9.845629782297923,
          -2.028226448222603,
          -1.4822450692338016,
          4.048478940089888,
          -6.460296686403597,
          -8.492978656507962,
          -1.83335010026979,
          9.003180345633982,
          -9.606125036756106,
          8.898369679983901,
          -5.504986013286684,
          -10.652298503270838,
          10.228030770896723,
          9.658113788436957,
          2.5332922942080955,
          4.8114557202656245,
          -5.724670556538134,
          -10.297125640298445,
          5.669507661928815,
          6.932184533984148,
          -6.175184186852216,
          -5.025106578314086,
          1.9746222696090232,
          11.128354573730132,
          -6.831000311692006,
          -11.639983871748042,
          -9.507244554829057,
          7.360710803780941,
          1.3261890701054684,
          4.476281606252975,
          8.850470064692669,
          -2.9328095162160626,
          -3.321669300745696,
          -3.278459015674599,
          -5.299861732762652,
          4.6496835375659575,
          3.3385578447815174,
          5.616494715798942,
          5.734863309073245,
          -9.789644418415055,
          -7.756341433559776,
          9.291051221509345,
          9.962698855042422,
          -1.3692625440257675,
          -6.247127557148479,
          -5.4886254572506745,
          8.066578535695609,
          4.106759367233079,
          -10.957919089762417,
          7.109751441682603,
          10.591456278389863,
          -10.201823282202913,
          -1.7261782763034388,
          7.784455469512874,
          -6.4602647080495785,
          1.0871114289561383,
          0.6944210987891672,
          -4.077376597588692,
          -4.381655855304461,
          11.784736005639045,
          4.24002141886814,
          6.754860607595744,
          4.274492892267202,
          -2.6116201934199843,
          -9.034013651157819,
          -6.427690669660199,
          10.229283975945972,
          -2.307142988855844,
          11.234380801762118,
          -6.025565500854332,
          -6.2560720044583755,
          -9.245323986227763,
          9.583817322096248,
          -2.276921222166542,
          -10.065665768350847,
          3.838832377780993,
          -5.572891436803605,
          9.878904869306409,
          -0.06702914707892571,
          10.595281649079562,
          -7.265913230245053,
          -6.145180579708971,
          6.536808344640301,
          6.510765588890606,
          -0.7188834981839305,
          -8.913561337650652,
          6.181371898778741,
          -9.67217435540228,
          1.981882486608007,
          -9.517112915936918,
          6.662287096911886,
          3.8114328276458442,
          -1.876728342966465
         ],
         "y": [
          1.2083205643765949,
          1.6228089317524326,
          9.820225574380359,
          -0.697417525934525,
          5.535963134381719,
          -2.782354510776689,
          16.593890198687475,
          21.38282579279585,
          -0.4485464759827158,
          -3.5906588999662574,
          1.071486642489278,
          -17.61961004115062,
          -7.47855884492003,
          -8.415672473978306,
          7.198747786897888,
          -11.538636199406213,
          16.70428101699423,
          -11.803195195360905,
          -20.737041263033067,
          21.564574116515224,
          17.919479598712485,
          5.782837770867353,
          11.306020463773072,
          -11.767012520069798,
          -13.864803812139076,
          11.619759204465167,
          6.74886857624532,
          -14.858592955840875,
          -9.327422729256348,
          -3.0869619240766895,
          19.265860118856793,
          -11.283106021119218,
          -23.2010633893257,
          -9.114279439654593,
          17.116742426016067,
          7.415000573402042,
          10.154041879337074,
          16.283230680066197,
          -0.8751462287347671,
          -11.666554206311517,
          -13.21044337090908,
          -0.85535421265247,
          3.820566111859252,
          6.250953798827467,
          6.570141052788173,
          12.765517120112008,
          -21.04386386494199,
          -9.932108488821063,
          8.75155237515709,
          11.855157624844367,
          -3.253830139175408,
          -10.91675555097104,
          -8.27850245526057,
          17.04700101668822,
          6.143096928528466,
          -15.043640254944403,
          3.952020680323301,
          21.61019056251985,
          -10.615482993182951,
          -1.9790332908803192,
          12.84533691677241,
          -14.65503097606129,
          -5.67838300661637,
          6.207363086546771,
          0.907402895484422,
          -13.571317155691538,
          26.397391854524074,
          -0.0113321653856433,
          10.41197806310004,
          12.819064964122944,
          -5.552876627793415,
          -22.78296486846827,
          -12.483048962952743,
          19.708655522956803,
          -1.6454019289569182,
          19.555183967683632,
          -10.928658734813222,
          -12.631088028468739,
          -15.34906496660601,
          16.995876269514334,
          -10.328643901845556,
          -11.312946614547192,
          8.22189198686478,
          -6.318704858481004,
          12.811856690890803,
          -0.934700998806437,
          15.545406108845052,
          -4.809178545608523,
          -17.409866190540605,
          12.232172467872987,
          13.030826798424624,
          -0.9539861856252108,
          -18.861746606492183,
          4.139377128333754,
          -12.586573996496167,
          7.880148612065269,
          -20.048408767820902,
          12.194430857357268,
          10.849637430914846,
          -2.9756334866579186
         ],
         "z": [
          -4.54971980783541,
          2.4952129969062558,
          2.288516709097479,
          2.6780430459666293,
          -1.2697390005082578,
          -2.5970328279463226,
          5.641644201049042,
          8.255319416398617,
          2.255755454980755,
          -1.6143321409878553,
          -4.326485277630573,
          -9.005881125945823,
          3.845412697090583,
          -5.971205673618586,
          -4.8054926739474215,
          1.2695305162685973,
          4.839788110349029,
          -4.463213844311992,
          -6.53397659200528,
          7.927199755319596,
          5.041994547463205,
          2.4051147119232255,
          4.890746170085571,
          -4.134118444685619,
          -0.13530295840781825,
          4.0604156552267465,
          -2.494044135733543,
          -6.625014040037921,
          -2.6272806248375673,
          -5.71979161688872,
          4.428054020549951,
          -2.1751056055298763,
          -7.681084893661646,
          3.5620466334508185,
          7.302461354308146,
          5.6467484799280845,
          4.185666404333107,
          4.482603927142637,
          3.0352664595533163,
          -7.237661805317257,
          -8.839164683342947,
          6.211128097697733,
          -2.3790119382286914,
          1.7995433391187774,
          -0.918518568277082,
          5.119032708014347,
          -7.991004640388586,
          0.40968008925863764,
          -3.6365159201887023,
          -1.4284408485455318,
          -1.4281467471410512,
          -2.587252141439734,
          -0.9603351789263366,
          6.291562969094076,
          0.6674177722176937,
          -0.43308146859451657,
          -5.527647908586836,
          7.488248858000035,
          2.9869480497542638,
          0.3225377441909325,
          2.4660629574219115,
          -6.041344698661852,
          -7.127864911891221,
          5.281468288161214,
          6.3439050256026785,
          -7.729109348618924,
          10.684410513672015,
          -5.66469405720983,
          1.4054972529723821,
          7.119741107766676,
          -2.0707163699001025,
          -10.73761333359118,
          -3.9127947367391442,
          6.069610221695512,
          1.430788722850874,
          4.576009565334144,
          -2.894571400340779,
          -4.289658689190904,
          -3.021966318302323,
          4.217453173386002,
          -7.292748938956833,
          2.107941076587273,
          3.103448816490123,
          1.1118170572571362,
          -0.3600164681844067,
          -0.8453288027012027,
          1.4183639100723013,
          4.8787057613848805,
          -9.216292084261976,
          3.5164280083525856,
          4.34980601323715,
          0.004525145286696564,
          -6.97699815629131,
          -4.1024520700379,
          0.3096584773735378,
          5.23763862992126,
          -7.358924879905013,
          3.3113813948080875,
          5.767726994053722,
          -0.47332902936929866
         ],
         "type": "scatter3d"
        }
       ],
       "layout": {
        "template": {
         "data": {
          "histogram2dcontour": [
           {
            "type": "histogram2dcontour",
            "colorbar": {
             "outlinewidth": 0,
             "ticks": ""
            },
            "colorscale": [
             [
              0.0,
              "#0d0887"
             ],
             [
              0.1111111111111111,
              "#46039f"
             ],
             [
              0.2222222222222222,
              "#7201a8"
             ],
             [
              0.3333333333333333,
              "#9c179e"
             ],
             [
              0.4444444444444444,
              "#bd3786"
             ],
             [
              0.5555555555555556,
              "#d8576b"
             ],
             [
              0.6666666666666666,
              "#ed7953"
             ],
             [
              0.7777777777777778,
              "#fb9f3a"
             ],
             [
              0.8888888888888888,
              "#fdca26"
             ],
             [
              1.0,
              "#f0f921"
             ]
            ]
           }
          ],
          "choropleth": [
           {
            "type": "choropleth",
            "colorbar": {
             "outlinewidth": 0,
             "ticks": ""
            }
           }
          ],
          "histogram2d": [
           {
            "type": "histogram2d",
            "colorbar": {
             "outlinewidth": 0,
             "ticks": ""
            },
            "colorscale": [
             [
              0.0,
              "#0d0887"
             ],
             [
              0.1111111111111111,
              "#46039f"
             ],
             [
              0.2222222222222222,
              "#7201a8"
             ],
             [
              0.3333333333333333,
              "#9c179e"
             ],
             [
              0.4444444444444444,
              "#bd3786"
             ],
             [
              0.5555555555555556,
              "#d8576b"
             ],
             [
              0.6666666666666666,
              "#ed7953"
             ],
             [
              0.7777777777777778,
              "#fb9f3a"
             ],
             [
              0.8888888888888888,
              "#fdca26"
             ],
             [
              1.0,
              "#f0f921"
             ]
            ]
           }
          ],
          "heatmap": [
           {
            "type": "heatmap",
            "colorbar": {
             "outlinewidth": 0,
             "ticks": ""
            },
            "colorscale": [
             [
              0.0,
              "#0d0887"
             ],
             [
              0.1111111111111111,
              "#46039f"
             ],
             [
              0.2222222222222222,
              "#7201a8"
             ],
             [
              0.3333333333333333,
              "#9c179e"
             ],
             [
              0.4444444444444444,
              "#bd3786"
             ],
             [
              0.5555555555555556,
              "#d8576b"
             ],
             [
              0.6666666666666666,
              "#ed7953"
             ],
             [
              0.7777777777777778,
              "#fb9f3a"
             ],
             [
              0.8888888888888888,
              "#fdca26"
             ],
             [
              1.0,
              "#f0f921"
             ]
            ]
           }
          ],
          "heatmapgl": [
           {
            "type": "heatmapgl",
            "colorbar": {
             "outlinewidth": 0,
             "ticks": ""
            },
            "colorscale": [
             [
              0.0,
              "#0d0887"
             ],
             [
              0.1111111111111111,
              "#46039f"
             ],
             [
              0.2222222222222222,
              "#7201a8"
             ],
             [
              0.3333333333333333,
              "#9c179e"
             ],
             [
              0.4444444444444444,
              "#bd3786"
             ],
             [
              0.5555555555555556,
              "#d8576b"
             ],
             [
              0.6666666666666666,
              "#ed7953"
             ],
             [
              0.7777777777777778,
              "#fb9f3a"
             ],
             [
              0.8888888888888888,
              "#fdca26"
             ],
             [
              1.0,
              "#f0f921"
             ]
            ]
           }
          ],
          "contourcarpet": [
           {
            "type": "contourcarpet",
            "colorbar": {
             "outlinewidth": 0,
             "ticks": ""
            }
           }
          ],
          "contour": [
           {
            "type": "contour",
            "colorbar": {
             "outlinewidth": 0,
             "ticks": ""
            },
            "colorscale": [
             [
              0.0,
              "#0d0887"
             ],
             [
              0.1111111111111111,
              "#46039f"
             ],
             [
              0.2222222222222222,
              "#7201a8"
             ],
             [
              0.3333333333333333,
              "#9c179e"
             ],
             [
              0.4444444444444444,
              "#bd3786"
             ],
             [
              0.5555555555555556,
              "#d8576b"
             ],
             [
              0.6666666666666666,
              "#ed7953"
             ],
             [
              0.7777777777777778,
              "#fb9f3a"
             ],
             [
              0.8888888888888888,
              "#fdca26"
             ],
             [
              1.0,
              "#f0f921"
             ]
            ]
           }
          ],
          "surface": [
           {
            "type": "surface",
            "colorbar": {
             "outlinewidth": 0,
             "ticks": ""
            },
            "colorscale": [
             [
              0.0,
              "#0d0887"
             ],
             [
              0.1111111111111111,
              "#46039f"
             ],
             [
              0.2222222222222222,
              "#7201a8"
             ],
             [
              0.3333333333333333,
              "#9c179e"
             ],
             [
              0.4444444444444444,
              "#bd3786"
             ],
             [
              0.5555555555555556,
              "#d8576b"
             ],
             [
              0.6666666666666666,
              "#ed7953"
             ],
             [
              0.7777777777777778,
              "#fb9f3a"
             ],
             [
              0.8888888888888888,
              "#fdca26"
             ],
             [
              1.0,
              "#f0f921"
             ]
            ]
           }
          ],
          "mesh3d": [
           {
            "type": "mesh3d",
            "colorbar": {
             "outlinewidth": 0,
             "ticks": ""
            }
           }
          ],
          "scatter": [
           {
            "fillpattern": {
             "fillmode": "overlay",
             "size": 10,
             "solidity": 0.2
            },
            "type": "scatter"
           }
          ],
          "parcoords": [
           {
            "type": "parcoords",
            "line": {
             "colorbar": {
              "outlinewidth": 0,
              "ticks": ""
             }
            }
           }
          ],
          "scatterpolargl": [
           {
            "type": "scatterpolargl",
            "marker": {
             "colorbar": {
              "outlinewidth": 0,
              "ticks": ""
             }
            }
           }
          ],
          "bar": [
           {
            "error_x": {
             "color": "#2a3f5f"
            },
            "error_y": {
             "color": "#2a3f5f"
            },
            "marker": {
             "line": {
              "color": "#E5ECF6",
              "width": 0.5
             },
             "pattern": {
              "fillmode": "overlay",
              "size": 10,
              "solidity": 0.2
             }
            },
            "type": "bar"
           }
          ],
          "scattergeo": [
           {
            "type": "scattergeo",
            "marker": {
             "colorbar": {
              "outlinewidth": 0,
              "ticks": ""
             }
            }
           }
          ],
          "scatterpolar": [
           {
            "type": "scatterpolar",
            "marker": {
             "colorbar": {
              "outlinewidth": 0,
              "ticks": ""
             }
            }
           }
          ],
          "histogram": [
           {
            "marker": {
             "pattern": {
              "fillmode": "overlay",
              "size": 10,
              "solidity": 0.2
             }
            },
            "type": "histogram"
           }
          ],
          "scattergl": [
           {
            "type": "scattergl",
            "marker": {
             "colorbar": {
              "outlinewidth": 0,
              "ticks": ""
             }
            }
           }
          ],
          "scatter3d": [
           {
            "type": "scatter3d",
            "line": {
             "colorbar": {
              "outlinewidth": 0,
              "ticks": ""
             }
            },
            "marker": {
             "colorbar": {
              "outlinewidth": 0,
              "ticks": ""
             }
            }
           }
          ],
          "scattermapbox": [
           {
            "type": "scattermapbox",
            "marker": {
             "colorbar": {
              "outlinewidth": 0,
              "ticks": ""
             }
            }
           }
          ],
          "scatterternary": [
           {
            "type": "scatterternary",
            "marker": {
             "colorbar": {
              "outlinewidth": 0,
              "ticks": ""
             }
            }
           }
          ],
          "scattercarpet": [
           {
            "type": "scattercarpet",
            "marker": {
             "colorbar": {
              "outlinewidth": 0,
              "ticks": ""
             }
            }
           }
          ],
          "carpet": [
           {
            "aaxis": {
             "endlinecolor": "#2a3f5f",
             "gridcolor": "white",
             "linecolor": "white",
             "minorgridcolor": "white",
             "startlinecolor": "#2a3f5f"
            },
            "baxis": {
             "endlinecolor": "#2a3f5f",
             "gridcolor": "white",
             "linecolor": "white",
             "minorgridcolor": "white",
             "startlinecolor": "#2a3f5f"
            },
            "type": "carpet"
           }
          ],
          "table": [
           {
            "cells": {
             "fill": {
              "color": "#EBF0F8"
             },
             "line": {
              "color": "white"
             }
            },
            "header": {
             "fill": {
              "color": "#C8D4E3"
             },
             "line": {
              "color": "white"
             }
            },
            "type": "table"
           }
          ],
          "barpolar": [
           {
            "marker": {
             "line": {
              "color": "#E5ECF6",
              "width": 0.5
             },
             "pattern": {
              "fillmode": "overlay",
              "size": 10,
              "solidity": 0.2
             }
            },
            "type": "barpolar"
           }
          ],
          "pie": [
           {
            "automargin": true,
            "type": "pie"
           }
          ]
         },
         "layout": {
          "autotypenumbers": "strict",
          "colorway": [
           "#636efa",
           "#EF553B",
           "#00cc96",
           "#ab63fa",
           "#FFA15A",
           "#19d3f3",
           "#FF6692",
           "#B6E880",
           "#FF97FF",
           "#FECB52"
          ],
          "font": {
           "color": "#2a3f5f"
          },
          "hovermode": "closest",
          "hoverlabel": {
           "align": "left"
          },
          "paper_bgcolor": "white",
          "plot_bgcolor": "#E5ECF6",
          "polar": {
           "bgcolor": "#E5ECF6",
           "angularaxis": {
            "gridcolor": "white",
            "linecolor": "white",
            "ticks": ""
           },
           "radialaxis": {
            "gridcolor": "white",
            "linecolor": "white",
            "ticks": ""
           }
          },
          "ternary": {
           "bgcolor": "#E5ECF6",
           "aaxis": {
            "gridcolor": "white",
            "linecolor": "white",
            "ticks": ""
           },
           "baxis": {
            "gridcolor": "white",
            "linecolor": "white",
            "ticks": ""
           },
           "caxis": {
            "gridcolor": "white",
            "linecolor": "white",
            "ticks": ""
           }
          },
          "coloraxis": {
           "colorbar": {
            "outlinewidth": 0,
            "ticks": ""
           }
          },
          "colorscale": {
           "sequential": [
            [
             0.0,
             "#0d0887"
            ],
            [
             0.1111111111111111,
             "#46039f"
            ],
            [
             0.2222222222222222,
             "#7201a8"
            ],
            [
             0.3333333333333333,
             "#9c179e"
            ],
            [
             0.4444444444444444,
             "#bd3786"
            ],
            [
             0.5555555555555556,
             "#d8576b"
            ],
            [
             0.6666666666666666,
             "#ed7953"
            ],
            [
             0.7777777777777778,
             "#fb9f3a"
            ],
            [
             0.8888888888888888,
             "#fdca26"
            ],
            [
             1.0,
             "#f0f921"
            ]
           ],
           "sequentialminus": [
            [
             0.0,
             "#0d0887"
            ],
            [
             0.1111111111111111,
             "#46039f"
            ],
            [
             0.2222222222222222,
             "#7201a8"
            ],
            [
             0.3333333333333333,
             "#9c179e"
            ],
            [
             0.4444444444444444,
             "#bd3786"
            ],
            [
             0.5555555555555556,
             "#d8576b"
            ],
            [
             0.6666666666666666,
             "#ed7953"
            ],
            [
             0.7777777777777778,
             "#fb9f3a"
            ],
            [
             0.8888888888888888,
             "#fdca26"
            ],
            [
             1.0,
             "#f0f921"
            ]
           ],
           "diverging": [
            [
             0,
             "#8e0152"
            ],
            [
             0.1,
             "#c51b7d"
            ],
            [
             0.2,
             "#de77ae"
            ],
            [
             0.3,
             "#f1b6da"
            ],
            [
             0.4,
             "#fde0ef"
            ],
            [
             0.5,
             "#f7f7f7"
            ],
            [
             0.6,
             "#e6f5d0"
            ],
            [
             0.7,
             "#b8e186"
            ],
            [
             0.8,
             "#7fbc41"
            ],
            [
             0.9,
             "#4d9221"
            ],
            [
             1,
             "#276419"
            ]
           ]
          },
          "xaxis": {
           "gridcolor": "white",
           "linecolor": "white",
           "ticks": "",
           "title": {
            "standoff": 15
           },
           "zerolinecolor": "white",
           "automargin": true,
           "zerolinewidth": 2
          },
          "yaxis": {
           "gridcolor": "white",
           "linecolor": "white",
           "ticks": "",
           "title": {
            "standoff": 15
           },
           "zerolinecolor": "white",
           "automargin": true,
           "zerolinewidth": 2
          },
          "scene": {
           "xaxis": {
            "backgroundcolor": "#E5ECF6",
            "gridcolor": "white",
            "linecolor": "white",
            "showbackground": true,
            "ticks": "",
            "zerolinecolor": "white",
            "gridwidth": 2
           },
           "yaxis": {
            "backgroundcolor": "#E5ECF6",
            "gridcolor": "white",
            "linecolor": "white",
            "showbackground": true,
            "ticks": "",
            "zerolinecolor": "white",
            "gridwidth": 2
           },
           "zaxis": {
            "backgroundcolor": "#E5ECF6",
            "gridcolor": "white",
            "linecolor": "white",
            "showbackground": true,
            "ticks": "",
            "zerolinecolor": "white",
            "gridwidth": 2
           }
          },
          "shapedefaults": {
           "line": {
            "color": "#2a3f5f"
           }
          },
          "annotationdefaults": {
           "arrowcolor": "#2a3f5f",
           "arrowhead": 0,
           "arrowwidth": 1
          },
          "geo": {
           "bgcolor": "white",
           "landcolor": "#E5ECF6",
           "subunitcolor": "white",
           "showland": true,
           "showlakes": true,
           "lakecolor": "white"
          },
          "title": {
           "x": 0.05
          },
          "mapbox": {
           "style": "light"
          }
         }
        },
        "margin": {
         "l": 0,
         "r": 0,
         "b": 0,
         "t": 0
        }
       },
       "config": {
        "plotlyServerURL": "https://plot.ly"
       }
      },
      "text/html": "<div>                            <div id=\"3c207169-af58-4237-b834-01798f7fc77d\" class=\"plotly-graph-div\" style=\"height:525px; width:100%;\"></div>            <script type=\"text/javascript\">                require([\"plotly\"], function(Plotly) {                    window.PLOTLYENV=window.PLOTLYENV || {};                                    if (document.getElementById(\"3c207169-af58-4237-b834-01798f7fc77d\")) {                    Plotly.newPlot(                        \"3c207169-af58-4237-b834-01798f7fc77d\",                        [{\"marker\":{\"color\":\"black\",\"size\":6},\"mode\":\"markers\",\"x\":[4.3185302791590034,-0.6543030488653674,5.64878164896216,-2.5315954289258658,5.1042766011674825,-0.1389912621227749,8.214184498228827,9.845629782297923,-2.028226448222603,-1.4822450692338016,4.048478940089888,-6.460296686403597,-8.492978656507962,-1.83335010026979,9.003180345633982,-9.606125036756106,8.898369679983901,-5.504986013286684,-10.652298503270838,10.228030770896723,9.658113788436957,2.5332922942080955,4.8114557202656245,-5.724670556538134,-10.297125640298445,5.669507661928815,6.932184533984148,-6.175184186852216,-5.025106578314086,1.9746222696090232,11.128354573730132,-6.831000311692006,-11.639983871748042,-9.507244554829057,7.360710803780941,1.3261890701054684,4.476281606252975,8.850470064692669,-2.9328095162160626,-3.321669300745696,-3.278459015674599,-5.299861732762652,4.6496835375659575,3.3385578447815174,5.616494715798942,5.734863309073245,-9.789644418415055,-7.756341433559776,9.291051221509345,9.962698855042422,-1.3692625440257675,-6.247127557148479,-5.4886254572506745,8.066578535695609,4.106759367233079,-10.957919089762417,7.109751441682603,10.591456278389863,-10.201823282202913,-1.7261782763034388,7.784455469512874,-6.4602647080495785,1.0871114289561383,0.6944210987891672,-4.077376597588692,-4.381655855304461,11.784736005639045,4.24002141886814,6.754860607595744,4.274492892267202,-2.6116201934199843,-9.034013651157819,-6.427690669660199,10.229283975945972,-2.307142988855844,11.234380801762118,-6.025565500854332,-6.2560720044583755,-9.245323986227763,9.583817322096248,-2.276921222166542,-10.065665768350847,3.838832377780993,-5.572891436803605,9.878904869306409,-0.06702914707892571,10.595281649079562,-7.265913230245053,-6.145180579708971,6.536808344640301,6.510765588890606,-0.7188834981839305,-8.913561337650652,6.181371898778741,-9.67217435540228,1.981882486608007,-9.517112915936918,6.662287096911886,3.8114328276458442,-1.876728342966465],\"y\":[1.2083205643765949,1.6228089317524326,9.820225574380359,-0.697417525934525,5.535963134381719,-2.782354510776689,16.593890198687475,21.38282579279585,-0.4485464759827158,-3.5906588999662574,1.071486642489278,-17.61961004115062,-7.47855884492003,-8.415672473978306,7.198747786897888,-11.538636199406213,16.70428101699423,-11.803195195360905,-20.737041263033067,21.564574116515224,17.919479598712485,5.782837770867353,11.306020463773072,-11.767012520069798,-13.864803812139076,11.619759204465167,6.74886857624532,-14.858592955840875,-9.327422729256348,-3.0869619240766895,19.265860118856793,-11.283106021119218,-23.2010633893257,-9.114279439654593,17.116742426016067,7.415000573402042,10.154041879337074,16.283230680066197,-0.8751462287347671,-11.666554206311517,-13.21044337090908,-0.85535421265247,3.820566111859252,6.250953798827467,6.570141052788173,12.765517120112008,-21.04386386494199,-9.932108488821063,8.75155237515709,11.855157624844367,-3.253830139175408,-10.91675555097104,-8.27850245526057,17.04700101668822,6.143096928528466,-15.043640254944403,3.952020680323301,21.61019056251985,-10.615482993182951,-1.9790332908803192,12.84533691677241,-14.65503097606129,-5.67838300661637,6.207363086546771,0.907402895484422,-13.571317155691538,26.397391854524074,-0.0113321653856433,10.41197806310004,12.819064964122944,-5.552876627793415,-22.78296486846827,-12.483048962952743,19.708655522956803,-1.6454019289569182,19.555183967683632,-10.928658734813222,-12.631088028468739,-15.34906496660601,16.995876269514334,-10.328643901845556,-11.312946614547192,8.22189198686478,-6.318704858481004,12.811856690890803,-0.934700998806437,15.545406108845052,-4.809178545608523,-17.409866190540605,12.232172467872987,13.030826798424624,-0.9539861856252108,-18.861746606492183,4.139377128333754,-12.586573996496167,7.880148612065269,-20.048408767820902,12.194430857357268,10.849637430914846,-2.9756334866579186],\"z\":[-4.54971980783541,2.4952129969062558,2.288516709097479,2.6780430459666293,-1.2697390005082578,-2.5970328279463226,5.641644201049042,8.255319416398617,2.255755454980755,-1.6143321409878553,-4.326485277630573,-9.005881125945823,3.845412697090583,-5.971205673618586,-4.8054926739474215,1.2695305162685973,4.839788110349029,-4.463213844311992,-6.53397659200528,7.927199755319596,5.041994547463205,2.4051147119232255,4.890746170085571,-4.134118444685619,-0.13530295840781825,4.0604156552267465,-2.494044135733543,-6.625014040037921,-2.6272806248375673,-5.71979161688872,4.428054020549951,-2.1751056055298763,-7.681084893661646,3.5620466334508185,7.302461354308146,5.6467484799280845,4.185666404333107,4.482603927142637,3.0352664595533163,-7.237661805317257,-8.839164683342947,6.211128097697733,-2.3790119382286914,1.7995433391187774,-0.918518568277082,5.119032708014347,-7.991004640388586,0.40968008925863764,-3.6365159201887023,-1.4284408485455318,-1.4281467471410512,-2.587252141439734,-0.9603351789263366,6.291562969094076,0.6674177722176937,-0.43308146859451657,-5.527647908586836,7.488248858000035,2.9869480497542638,0.3225377441909325,2.4660629574219115,-6.041344698661852,-7.127864911891221,5.281468288161214,6.3439050256026785,-7.729109348618924,10.684410513672015,-5.66469405720983,1.4054972529723821,7.119741107766676,-2.0707163699001025,-10.73761333359118,-3.9127947367391442,6.069610221695512,1.430788722850874,4.576009565334144,-2.894571400340779,-4.289658689190904,-3.021966318302323,4.217453173386002,-7.292748938956833,2.107941076587273,3.103448816490123,1.1118170572571362,-0.3600164681844067,-0.8453288027012027,1.4183639100723013,4.8787057613848805,-9.216292084261976,3.5164280083525856,4.34980601323715,0.004525145286696564,-6.97699815629131,-4.1024520700379,0.3096584773735378,5.23763862992126,-7.358924879905013,3.3113813948080875,5.767726994053722,-0.47332902936929866],\"type\":\"scatter3d\"}],                        {\"template\":{\"data\":{\"histogram2dcontour\":[{\"type\":\"histogram2dcontour\",\"colorbar\":{\"outlinewidth\":0,\"ticks\":\"\"},\"colorscale\":[[0.0,\"#0d0887\"],[0.1111111111111111,\"#46039f\"],[0.2222222222222222,\"#7201a8\"],[0.3333333333333333,\"#9c179e\"],[0.4444444444444444,\"#bd3786\"],[0.5555555555555556,\"#d8576b\"],[0.6666666666666666,\"#ed7953\"],[0.7777777777777778,\"#fb9f3a\"],[0.8888888888888888,\"#fdca26\"],[1.0,\"#f0f921\"]]}],\"choropleth\":[{\"type\":\"choropleth\",\"colorbar\":{\"outlinewidth\":0,\"ticks\":\"\"}}],\"histogram2d\":[{\"type\":\"histogram2d\",\"colorbar\":{\"outlinewidth\":0,\"ticks\":\"\"},\"colorscale\":[[0.0,\"#0d0887\"],[0.1111111111111111,\"#46039f\"],[0.2222222222222222,\"#7201a8\"],[0.3333333333333333,\"#9c179e\"],[0.4444444444444444,\"#bd3786\"],[0.5555555555555556,\"#d8576b\"],[0.6666666666666666,\"#ed7953\"],[0.7777777777777778,\"#fb9f3a\"],[0.8888888888888888,\"#fdca26\"],[1.0,\"#f0f921\"]]}],\"heatmap\":[{\"type\":\"heatmap\",\"colorbar\":{\"outlinewidth\":0,\"ticks\":\"\"},\"colorscale\":[[0.0,\"#0d0887\"],[0.1111111111111111,\"#46039f\"],[0.2222222222222222,\"#7201a8\"],[0.3333333333333333,\"#9c179e\"],[0.4444444444444444,\"#bd3786\"],[0.5555555555555556,\"#d8576b\"],[0.6666666666666666,\"#ed7953\"],[0.7777777777777778,\"#fb9f3a\"],[0.8888888888888888,\"#fdca26\"],[1.0,\"#f0f921\"]]}],\"heatmapgl\":[{\"type\":\"heatmapgl\",\"colorbar\":{\"outlinewidth\":0,\"ticks\":\"\"},\"colorscale\":[[0.0,\"#0d0887\"],[0.1111111111111111,\"#46039f\"],[0.2222222222222222,\"#7201a8\"],[0.3333333333333333,\"#9c179e\"],[0.4444444444444444,\"#bd3786\"],[0.5555555555555556,\"#d8576b\"],[0.6666666666666666,\"#ed7953\"],[0.7777777777777778,\"#fb9f3a\"],[0.8888888888888888,\"#fdca26\"],[1.0,\"#f0f921\"]]}],\"contourcarpet\":[{\"type\":\"contourcarpet\",\"colorbar\":{\"outlinewidth\":0,\"ticks\":\"\"}}],\"contour\":[{\"type\":\"contour\",\"colorbar\":{\"outlinewidth\":0,\"ticks\":\"\"},\"colorscale\":[[0.0,\"#0d0887\"],[0.1111111111111111,\"#46039f\"],[0.2222222222222222,\"#7201a8\"],[0.3333333333333333,\"#9c179e\"],[0.4444444444444444,\"#bd3786\"],[0.5555555555555556,\"#d8576b\"],[0.6666666666666666,\"#ed7953\"],[0.7777777777777778,\"#fb9f3a\"],[0.8888888888888888,\"#fdca26\"],[1.0,\"#f0f921\"]]}],\"surface\":[{\"type\":\"surface\",\"colorbar\":{\"outlinewidth\":0,\"ticks\":\"\"},\"colorscale\":[[0.0,\"#0d0887\"],[0.1111111111111111,\"#46039f\"],[0.2222222222222222,\"#7201a8\"],[0.3333333333333333,\"#9c179e\"],[0.4444444444444444,\"#bd3786\"],[0.5555555555555556,\"#d8576b\"],[0.6666666666666666,\"#ed7953\"],[0.7777777777777778,\"#fb9f3a\"],[0.8888888888888888,\"#fdca26\"],[1.0,\"#f0f921\"]]}],\"mesh3d\":[{\"type\":\"mesh3d\",\"colorbar\":{\"outlinewidth\":0,\"ticks\":\"\"}}],\"scatter\":[{\"fillpattern\":{\"fillmode\":\"overlay\",\"size\":10,\"solidity\":0.2},\"type\":\"scatter\"}],\"parcoords\":[{\"type\":\"parcoords\",\"line\":{\"colorbar\":{\"outlinewidth\":0,\"ticks\":\"\"}}}],\"scatterpolargl\":[{\"type\":\"scatterpolargl\",\"marker\":{\"colorbar\":{\"outlinewidth\":0,\"ticks\":\"\"}}}],\"bar\":[{\"error_x\":{\"color\":\"#2a3f5f\"},\"error_y\":{\"color\":\"#2a3f5f\"},\"marker\":{\"line\":{\"color\":\"#E5ECF6\",\"width\":0.5},\"pattern\":{\"fillmode\":\"overlay\",\"size\":10,\"solidity\":0.2}},\"type\":\"bar\"}],\"scattergeo\":[{\"type\":\"scattergeo\",\"marker\":{\"colorbar\":{\"outlinewidth\":0,\"ticks\":\"\"}}}],\"scatterpolar\":[{\"type\":\"scatterpolar\",\"marker\":{\"colorbar\":{\"outlinewidth\":0,\"ticks\":\"\"}}}],\"histogram\":[{\"marker\":{\"pattern\":{\"fillmode\":\"overlay\",\"size\":10,\"solidity\":0.2}},\"type\":\"histogram\"}],\"scattergl\":[{\"type\":\"scattergl\",\"marker\":{\"colorbar\":{\"outlinewidth\":0,\"ticks\":\"\"}}}],\"scatter3d\":[{\"type\":\"scatter3d\",\"line\":{\"colorbar\":{\"outlinewidth\":0,\"ticks\":\"\"}},\"marker\":{\"colorbar\":{\"outlinewidth\":0,\"ticks\":\"\"}}}],\"scattermapbox\":[{\"type\":\"scattermapbox\",\"marker\":{\"colorbar\":{\"outlinewidth\":0,\"ticks\":\"\"}}}],\"scatterternary\":[{\"type\":\"scatterternary\",\"marker\":{\"colorbar\":{\"outlinewidth\":0,\"ticks\":\"\"}}}],\"scattercarpet\":[{\"type\":\"scattercarpet\",\"marker\":{\"colorbar\":{\"outlinewidth\":0,\"ticks\":\"\"}}}],\"carpet\":[{\"aaxis\":{\"endlinecolor\":\"#2a3f5f\",\"gridcolor\":\"white\",\"linecolor\":\"white\",\"minorgridcolor\":\"white\",\"startlinecolor\":\"#2a3f5f\"},\"baxis\":{\"endlinecolor\":\"#2a3f5f\",\"gridcolor\":\"white\",\"linecolor\":\"white\",\"minorgridcolor\":\"white\",\"startlinecolor\":\"#2a3f5f\"},\"type\":\"carpet\"}],\"table\":[{\"cells\":{\"fill\":{\"color\":\"#EBF0F8\"},\"line\":{\"color\":\"white\"}},\"header\":{\"fill\":{\"color\":\"#C8D4E3\"},\"line\":{\"color\":\"white\"}},\"type\":\"table\"}],\"barpolar\":[{\"marker\":{\"line\":{\"color\":\"#E5ECF6\",\"width\":0.5},\"pattern\":{\"fillmode\":\"overlay\",\"size\":10,\"solidity\":0.2}},\"type\":\"barpolar\"}],\"pie\":[{\"automargin\":true,\"type\":\"pie\"}]},\"layout\":{\"autotypenumbers\":\"strict\",\"colorway\":[\"#636efa\",\"#EF553B\",\"#00cc96\",\"#ab63fa\",\"#FFA15A\",\"#19d3f3\",\"#FF6692\",\"#B6E880\",\"#FF97FF\",\"#FECB52\"],\"font\":{\"color\":\"#2a3f5f\"},\"hovermode\":\"closest\",\"hoverlabel\":{\"align\":\"left\"},\"paper_bgcolor\":\"white\",\"plot_bgcolor\":\"#E5ECF6\",\"polar\":{\"bgcolor\":\"#E5ECF6\",\"angularaxis\":{\"gridcolor\":\"white\",\"linecolor\":\"white\",\"ticks\":\"\"},\"radialaxis\":{\"gridcolor\":\"white\",\"linecolor\":\"white\",\"ticks\":\"\"}},\"ternary\":{\"bgcolor\":\"#E5ECF6\",\"aaxis\":{\"gridcolor\":\"white\",\"linecolor\":\"white\",\"ticks\":\"\"},\"baxis\":{\"gridcolor\":\"white\",\"linecolor\":\"white\",\"ticks\":\"\"},\"caxis\":{\"gridcolor\":\"white\",\"linecolor\":\"white\",\"ticks\":\"\"}},\"coloraxis\":{\"colorbar\":{\"outlinewidth\":0,\"ticks\":\"\"}},\"colorscale\":{\"sequential\":[[0.0,\"#0d0887\"],[0.1111111111111111,\"#46039f\"],[0.2222222222222222,\"#7201a8\"],[0.3333333333333333,\"#9c179e\"],[0.4444444444444444,\"#bd3786\"],[0.5555555555555556,\"#d8576b\"],[0.6666666666666666,\"#ed7953\"],[0.7777777777777778,\"#fb9f3a\"],[0.8888888888888888,\"#fdca26\"],[1.0,\"#f0f921\"]],\"sequentialminus\":[[0.0,\"#0d0887\"],[0.1111111111111111,\"#46039f\"],[0.2222222222222222,\"#7201a8\"],[0.3333333333333333,\"#9c179e\"],[0.4444444444444444,\"#bd3786\"],[0.5555555555555556,\"#d8576b\"],[0.6666666666666666,\"#ed7953\"],[0.7777777777777778,\"#fb9f3a\"],[0.8888888888888888,\"#fdca26\"],[1.0,\"#f0f921\"]],\"diverging\":[[0,\"#8e0152\"],[0.1,\"#c51b7d\"],[0.2,\"#de77ae\"],[0.3,\"#f1b6da\"],[0.4,\"#fde0ef\"],[0.5,\"#f7f7f7\"],[0.6,\"#e6f5d0\"],[0.7,\"#b8e186\"],[0.8,\"#7fbc41\"],[0.9,\"#4d9221\"],[1,\"#276419\"]]},\"xaxis\":{\"gridcolor\":\"white\",\"linecolor\":\"white\",\"ticks\":\"\",\"title\":{\"standoff\":15},\"zerolinecolor\":\"white\",\"automargin\":true,\"zerolinewidth\":2},\"yaxis\":{\"gridcolor\":\"white\",\"linecolor\":\"white\",\"ticks\":\"\",\"title\":{\"standoff\":15},\"zerolinecolor\":\"white\",\"automargin\":true,\"zerolinewidth\":2},\"scene\":{\"xaxis\":{\"backgroundcolor\":\"#E5ECF6\",\"gridcolor\":\"white\",\"linecolor\":\"white\",\"showbackground\":true,\"ticks\":\"\",\"zerolinecolor\":\"white\",\"gridwidth\":2},\"yaxis\":{\"backgroundcolor\":\"#E5ECF6\",\"gridcolor\":\"white\",\"linecolor\":\"white\",\"showbackground\":true,\"ticks\":\"\",\"zerolinecolor\":\"white\",\"gridwidth\":2},\"zaxis\":{\"backgroundcolor\":\"#E5ECF6\",\"gridcolor\":\"white\",\"linecolor\":\"white\",\"showbackground\":true,\"ticks\":\"\",\"zerolinecolor\":\"white\",\"gridwidth\":2}},\"shapedefaults\":{\"line\":{\"color\":\"#2a3f5f\"}},\"annotationdefaults\":{\"arrowcolor\":\"#2a3f5f\",\"arrowhead\":0,\"arrowwidth\":1},\"geo\":{\"bgcolor\":\"white\",\"landcolor\":\"#E5ECF6\",\"subunitcolor\":\"white\",\"showland\":true,\"showlakes\":true,\"lakecolor\":\"white\"},\"title\":{\"x\":0.05},\"mapbox\":{\"style\":\"light\"}}},\"margin\":{\"l\":0,\"r\":0,\"b\":0,\"t\":0}},                        {\"responsive\": true}                    ).then(function(){\n                            \nvar gd = document.getElementById('3c207169-af58-4237-b834-01798f7fc77d');\nvar x = new MutationObserver(function (mutations, observer) {{\n        var display = window.getComputedStyle(gd).display;\n        if (!display || display === 'none') {{\n            console.log([gd, 'removed!']);\n            Plotly.purge(gd);\n            observer.disconnect();\n        }}\n}});\n\n// Listen for the removal of the full notebook cells\nvar notebookContainer = gd.closest('#notebook-container');\nif (notebookContainer) {{\n    x.observe(notebookContainer, {childList: true});\n}}\n\n// Listen for the clearing of the current output cell\nvar outputEl = gd.closest('.output');\nif (outputEl) {{\n    x.observe(outputEl, {childList: true});\n}}\n\n                        })                };                });            </script>        </div>"
     },
     "metadata": {},
     "output_type": "display_data"
    }
   ],
   "source": [
    "v1 = np.array([3,5,1])\n",
    "v2 = np.array([0,2,2])\n",
    "\n",
    "scalars = np.random.uniform(low=xlim[0],high=xlim[1],size=(100,2))\n",
    "\n",
    "points = np.zeros((100,3))\n",
    "\n",
    "\n",
    "for i in range(len(scalars)):\n",
    "    points[i,:] = v1*scalars[i,0] + v2*scalars[i,1]\n",
    "\n",
    "fig = go.Figure(data=[go.Scatter3d(x=points[:,0],y=points[:,1],z=points[:,2],mode='markers',marker=dict(size=6,color='black'))])\n",
    "fig.update_layout(margin=dict(l=0,r=0,b=0,t=0))\n",
    "fig.show()"
   ],
   "metadata": {
    "collapsed": false,
    "ExecuteTime": {
     "end_time": "2023-12-09T06:47:20.891797800Z",
     "start_time": "2023-12-09T06:47:20.863416100Z"
    }
   },
   "id": "99ed3158f0e191d8"
  },
  {
   "cell_type": "code",
   "execution_count": null,
   "outputs": [],
   "source": [],
   "metadata": {
    "collapsed": false,
    "ExecuteTime": {
     "start_time": "2023-12-09T05:23:36.979314400Z"
    }
   },
   "id": "92e41778c70afbd9"
  }
 ],
 "metadata": {
  "kernelspec": {
   "display_name": "Python 3 (ipykernel)",
   "language": "python",
   "name": "python3"
  },
  "language_info": {
   "codemirror_mode": {
    "name": "ipython",
    "version": 3
   },
   "file_extension": ".py",
   "mimetype": "text/x-python",
   "name": "python",
   "nbconvert_exporter": "python",
   "pygments_lexer": "ipython3",
   "version": "3.11.5"
  }
 },
 "nbformat": 4,
 "nbformat_minor": 5
}
